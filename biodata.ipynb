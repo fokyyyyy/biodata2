{
 "cells": [
  {
   "cell_type": "code",
   "execution_count": 3,
   "id": "ff30d8a6",
   "metadata": {},
   "outputs": [
    {
     "name": "stdout",
     "output_type": "stream",
     "text": [
      "BIODATA\n",
      "masukan nama :fauzi\n",
      "masukan kelas :TI22E\n",
      "masukan nim :2022040184\n",
      "masukan jurusan :Teknik Informatika\n",
      "nama saya fauzi, kelas saya TI22E, nim Saya adalah 2022040184, dan jurusan saya adalah Teknik Informatika\n"
     ]
    }
   ],
   "source": [
    "#bioadata \n",
    "print('BIODATA')\n",
    "\n",
    "nama = input('masukan nama :')\n",
    "kelas = input('masukan kelas :')\n",
    "nim = input('masukan nim :')\n",
    "jurusan = input('masukan jurusan :')\n",
    "\n",
    "print ('nama saya {}, kelas saya {}, nim Saya adalah {}, dan jurusan saya adalah {}'.format(nama, kelas, nim, jurusan))\n"
   ]
  }
 ],
 "metadata": {
  "kernelspec": {
   "display_name": "Python 3 (ipykernel)",
   "language": "python",
   "name": "python3"
  },
  "language_info": {
   "codemirror_mode": {
    "name": "ipython",
    "version": 3
   },
   "file_extension": ".py",
   "mimetype": "text/x-python",
   "name": "python",
   "nbconvert_exporter": "python",
   "pygments_lexer": "ipython3",
   "version": "3.9.12"
  }
 },
 "nbformat": 4,
 "nbformat_minor": 5
}
